{
 "cells": [
  {
   "cell_type": "code",
   "execution_count": 5,
   "metadata": {},
   "outputs": [],
   "source": [
    "from surprise import SVD\n",
    "from surprise import KNNBasic\n",
    "from surprise import BaselineOnly\n",
    "from surprise import NormalPredictor\n",
    "\n",
    "from surprise import Reader\n",
    "from surprise import Dataset\n",
    "from surprise.model_selection import cross_validate\n",
    "\n",
    "import csv"
   ]
  },
  {
   "cell_type": "code",
   "execution_count": 6,
   "metadata": {},
   "outputs": [],
   "source": [
    "# Load in the book ratings and return a dataset.\n",
    "def load_dataset():\n",
    "    reader = Reader(line_format='user item rating', sep=';', skip_lines=1)\n",
    "    ratings_dataset = Dataset.load_from_file('./ratings_no_quotes_smallest.csv', reader=reader)\n",
    "\n",
    "    # Lookup a book's name with it's bookID as key\n",
    "    bookID_to_name = {}\n",
    "    with open('./clubs_book.csv', newline='', encoding='Latin1') as csvfile:\n",
    "            book_reader = csv.reader(csvfile)\n",
    "            next(book_reader)\n",
    "            for row in book_reader:\n",
    "                bookID = int(row[0]) \n",
    "                book_name = row[1]\n",
    "                bookID_to_name[bookID] = book_name\n",
    "    # Return both the dataset and lookup dict in tuple\n",
    "    return (ratings_dataset, bookID_to_name)\n",
    "\n",
    "dataset, bookID_to_name = load_dataset()"
   ]
  },
  {
   "cell_type": "code",
   "execution_count": 7,
   "metadata": {},
   "outputs": [
    {
     "name": "stdout",
     "output_type": "stream",
     "text": [
      "Evaluating RMSE, MAE of algorithm SVD on 5 split(s).\n",
      "\n",
      "                  Fold 1  Fold 2  Fold 3  Fold 4  Fold 5  Mean    Std     \n",
      "RMSE (testset)    3.0175  2.9506  2.9009  2.9175  2.9668  2.9507  0.0407  \n",
      "MAE (testset)     2.3536  2.3035  2.2528  2.2979  2.3067  2.3029  0.0320  \n",
      "Fit time          0.47    0.45    0.51    0.48    0.48    0.48    0.02    \n",
      "Test time         0.01    0.01    0.01    0.01    0.01    0.01    0.00    \n"
     ]
    },
    {
     "data": {
      "text/plain": [
       "{'test_rmse': array([3.01747995, 2.95064598, 2.90092093, 2.91747023, 2.96678781]),\n",
       " 'test_mae': array([2.35361127, 2.30352981, 2.25276447, 2.297918  , 2.30665268]),\n",
       " 'fit_time': (0.47173285484313965,\n",
       "  0.44814515113830566,\n",
       "  0.5117897987365723,\n",
       "  0.4792921543121338,\n",
       "  0.4777069091796875),\n",
       " 'test_time': (0.00850820541381836,\n",
       "  0.008734941482543945,\n",
       "  0.009173870086669922,\n",
       "  0.00945591926574707,\n",
       "  0.009185075759887695)}"
      ]
     },
     "execution_count": 7,
     "metadata": {},
     "output_type": "execute_result"
    }
   ],
   "source": [
    "# SVD provides a more accurate prediction but only if applied on preprocessed data\n",
    "# In the example below, SVD has a low RMSE and MAE, but takes longer to fit\n",
    "algo = SVD()\n",
    "\n",
    "# Run 5-fold cross-validation and print results.\n",
    "cross_validate(algo, dataset, measures=['RMSE', 'MAE'], cv=5, verbose=True)"
   ]
  },
  {
   "cell_type": "code",
   "execution_count": 8,
   "metadata": {},
   "outputs": [
    {
     "name": "stdout",
     "output_type": "stream",
     "text": [
      "Computing the msd similarity matrix...\n",
      "Done computing similarity matrix.\n",
      "Computing the msd similarity matrix...\n",
      "Done computing similarity matrix.\n",
      "Computing the msd similarity matrix...\n",
      "Done computing similarity matrix.\n",
      "Computing the msd similarity matrix...\n",
      "Done computing similarity matrix.\n",
      "Computing the msd similarity matrix...\n",
      "Done computing similarity matrix.\n",
      "Evaluating RMSE, MAE of algorithm KNNBasic on 5 split(s).\n",
      "\n",
      "                  Fold 1  Fold 2  Fold 3  Fold 4  Fold 5  Mean    Std     \n",
      "RMSE (testset)    3.3721  3.4380  3.4807  3.4900  3.3945  3.4351  0.0463  \n",
      "MAE (testset)     2.8699  2.9088  2.9262  2.9369  2.8772  2.9038  0.0264  \n",
      "Fit time          0.02    0.02    0.01    0.01    0.01    0.02    0.00    \n",
      "Test time         0.02    0.02    0.01    0.02    0.01    0.02    0.00    \n"
     ]
    },
    {
     "data": {
      "text/plain": [
       "{'test_rmse': array([3.37211301, 3.43802177, 3.48067869, 3.48996633, 3.39454957]),\n",
       " 'test_mae': array([2.86993876, 2.90876116, 2.92616937, 2.93685889, 2.87718134]),\n",
       " 'fit_time': (0.015182018280029297,\n",
       "  0.01885390281677246,\n",
       "  0.014732122421264648,\n",
       "  0.014858007431030273,\n",
       "  0.01488804817199707),\n",
       " 'test_time': (0.017633914947509766,\n",
       "  0.017277956008911133,\n",
       "  0.014986038208007812,\n",
       "  0.015547037124633789,\n",
       "  0.014621973037719727)}"
      ]
     },
     "execution_count": 8,
     "metadata": {},
     "output_type": "execute_result"
    }
   ],
   "source": [
    "# KNN is typically better when less data can be provided\n",
    "# The RMSE and MAE are higher than SVD, but fit and test time are extremely low\n",
    "algo = KNNBasic()\n",
    "\n",
    "# Run 5-fold cross-validation and print results.\n",
    "cross_validate(algo, dataset, measures=['RMSE', 'MAE'], cv=5, verbose=True)"
   ]
  },
  {
   "cell_type": "code",
   "execution_count": 10,
   "metadata": {},
   "outputs": [
    {
     "name": "stdout",
     "output_type": "stream",
     "text": [
      "Evaluating RMSE, MAE of algorithm NormalPredictor on 5 split(s).\n",
      "\n",
      "                  Fold 1  Fold 2  Fold 3  Fold 4  Fold 5  Mean    Std     \n",
      "RMSE (testset)    3.8775  3.8204  3.8340  3.8345  3.8331  3.8399  0.0195  \n",
      "MAE (testset)     3.2137  3.1839  3.1959  3.1858  3.1855  3.1930  0.0112  \n",
      "Fit time          0.01    0.01    0.01    0.01    0.01    0.01    0.00    \n",
      "Test time         0.02    0.02    0.02    0.02    0.01    0.02    0.00    \n"
     ]
    },
    {
     "data": {
      "text/plain": [
       "{'test_rmse': array([3.87753075, 3.8203611 , 3.83401368, 3.83451573, 3.83312496]),\n",
       " 'test_mae': array([3.21373374, 3.18392392, 3.1958944 , 3.18581506, 3.1855204 ]),\n",
       " 'fit_time': (0.01129293441772461,\n",
       "  0.014464855194091797,\n",
       "  0.014043331146240234,\n",
       "  0.012397050857543945,\n",
       "  0.011802911758422852),\n",
       " 'test_time': (0.018342256546020508,\n",
       "  0.021129131317138672,\n",
       "  0.01959395408630371,\n",
       "  0.017589807510375977,\n",
       "  0.01464080810546875)}"
      ]
     },
     "execution_count": 10,
     "metadata": {},
     "output_type": "execute_result"
    }
   ],
   "source": [
    "# Use the Normal Predictor algorithm\n",
    "algo = NormalPredictor()\n",
    "\n",
    "# Run 5-fold cross-validation and print results.\n",
    "cross_validate(algo, dataset, measures=['RMSE', 'MAE'], cv=5, verbose=True)"
   ]
  }
 ],
 "metadata": {
  "interpreter": {
   "hash": "2bd6d94991ff9ae6dfdbd975eb839f4dc12d8064852aaa8dc3cfcac23c75d875"
  },
  "kernelspec": {
   "display_name": "Python 3.9.10 ('venv': venv)",
   "language": "python",
   "name": "python3"
  },
  "language_info": {
   "codemirror_mode": {
    "name": "ipython",
    "version": 3
   },
   "file_extension": ".py",
   "mimetype": "text/x-python",
   "name": "python",
   "nbconvert_exporter": "python",
   "pygments_lexer": "ipython3",
   "version": "3.9.10"
  },
  "orig_nbformat": 4
 },
 "nbformat": 4,
 "nbformat_minor": 2
}
