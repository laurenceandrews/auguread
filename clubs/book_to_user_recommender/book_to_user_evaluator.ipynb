{
 "cells": [
  {
   "cell_type": "code",
   "execution_count": 25,
   "metadata": {},
   "outputs": [],
   "source": [
    "from surprise import SVD\n",
    "from surprise import KNNBasic\n",
    "from surprise import BaselineOnly\n",
    "from surprise import NormalPredictor\n",
    "\n",
    "from surprise import Reader\n",
    "from surprise import Dataset\n",
    "from surprise.model_selection import cross_validate\n",
    "\n",
    "import csv"
   ]
  },
  {
   "cell_type": "code",
   "execution_count": 26,
   "metadata": {},
   "outputs": [],
   "source": [
    "# Load in the book ratings and return a dataset.\n",
    "def load_dataset():\n",
    "    reader = Reader(line_format='user item rating', sep=';', skip_lines=1)\n",
    "    ratings_dataset = Dataset.load_from_file('./ratings_no_quotes_small_no_0.csv', reader=reader)\n",
    "\n",
    "    # Lookup a book's name with it's bookID as key\n",
    "    bookID_to_name = {}\n",
    "    with open('./clubs_book.csv', newline='', encoding='Latin1') as csvfile:\n",
    "            book_reader = csv.reader(csvfile)\n",
    "            next(book_reader)\n",
    "            for row in book_reader:\n",
    "                bookID = int(row[0]) \n",
    "                book_name = row[1]\n",
    "                bookID_to_name[bookID] = book_name\n",
    "    # Return both the dataset and lookup dict in tuple\n",
    "    return (ratings_dataset, bookID_to_name)\n",
    "\n",
    "dataset, bookID_to_name = load_dataset()"
   ]
  },
  {
   "cell_type": "code",
   "execution_count": 27,
   "metadata": {},
   "outputs": [
    {
     "name": "stdout",
     "output_type": "stream",
     "text": [
      "Evaluating RMSE, MAE of algorithm SVD on 5 split(s).\n",
      "\n",
      "                  Fold 1  Fold 2  Fold 3  Fold 4  Fold 5  Mean    Std     \n",
      "RMSE (testset)    3.1235  3.1165  3.1240  3.1421  3.1199  3.1252  0.0089  \n",
      "MAE (testset)     2.7151  2.7119  2.7177  2.7388  2.7152  2.7197  0.0097  \n",
      "Fit time          2.32    2.27    2.15    2.17    2.18    2.22    0.07    \n",
      "Test time         0.05    0.04    0.04    0.05    0.04    0.05    0.00    \n"
     ]
    },
    {
     "data": {
      "text/plain": [
       "{'test_rmse': array([3.12349639, 3.11645172, 3.12397872, 3.14214539, 3.11994264]),\n",
       " 'test_mae': array([2.71510433, 2.71188241, 2.71767381, 2.73880891, 2.71516818]),\n",
       " 'fit_time': (2.3211450576782227,\n",
       "  2.269073247909546,\n",
       "  2.1496851444244385,\n",
       "  2.1721620559692383,\n",
       "  2.1798079013824463),\n",
       " 'test_time': (0.04607820510864258,\n",
       "  0.04491591453552246,\n",
       "  0.0438079833984375,\n",
       "  0.046636104583740234,\n",
       "  0.044158935546875)}"
      ]
     },
     "execution_count": 27,
     "metadata": {},
     "output_type": "execute_result"
    }
   ],
   "source": [
    "# SVD provides a more accurate prediction but only if applied on preprocessed data\n",
    "# In the example below, SVD has a low RMSE and MAE, but takes longer to fit\n",
    "algo = SVD()\n",
    "\n",
    "# Run 5-fold cross-validation and print results.\n",
    "cross_validate(algo, dataset, measures=['RMSE', 'MAE'], cv=5, verbose=True)"
   ]
  },
  {
   "cell_type": "code",
   "execution_count": 28,
   "metadata": {},
   "outputs": [
    {
     "name": "stdout",
     "output_type": "stream",
     "text": [
      "Computing the msd similarity matrix...\n",
      "Done computing similarity matrix.\n",
      "Computing the msd similarity matrix...\n",
      "Done computing similarity matrix.\n",
      "Computing the msd similarity matrix...\n",
      "Done computing similarity matrix.\n",
      "Computing the msd similarity matrix...\n",
      "Done computing similarity matrix.\n",
      "Computing the msd similarity matrix...\n",
      "Done computing similarity matrix.\n",
      "Evaluating RMSE, MAE of algorithm KNNBasic on 5 split(s).\n",
      "\n",
      "                  Fold 1  Fold 2  Fold 3  Fold 4  Fold 5  Mean    Std     \n",
      "RMSE (testset)    3.1602  3.1264  3.1336  3.1472  3.1231  3.1381  0.0138  \n",
      "MAE (testset)     2.7547  2.7081  2.7302  2.7389  2.7141  2.7292  0.0169  \n",
      "Fit time          0.79    0.82    0.80    0.82    0.84    0.81    0.02    \n",
      "Test time         0.08    0.08    0.08    0.08    0.08    0.08    0.00    \n"
     ]
    },
    {
     "data": {
      "text/plain": [
       "{'test_rmse': array([3.16015998, 3.12642977, 3.13360782, 3.14721896, 3.12307669]),\n",
       " 'test_mae': array([2.75469815, 2.70805111, 2.73023943, 2.73886403, 2.71405149]),\n",
       " 'fit_time': (0.7858538627624512,\n",
       "  0.8233499526977539,\n",
       "  0.7993557453155518,\n",
       "  0.8210940361022949,\n",
       "  0.8414120674133301),\n",
       " 'test_time': (0.08116388320922852,\n",
       "  0.0791311264038086,\n",
       "  0.07739591598510742,\n",
       "  0.07954096794128418,\n",
       "  0.08350801467895508)}"
      ]
     },
     "execution_count": 28,
     "metadata": {},
     "output_type": "execute_result"
    }
   ],
   "source": [
    "# KNN is typically better when less data can be provided\n",
    "# The RMSE and MAE are higher than SVD, but fit and test time are extremely low\n",
    "algo = KNNBasic()\n",
    "\n",
    "# Run 5-fold cross-validation and print results.\n",
    "cross_validate(algo, dataset, measures=['RMSE', 'MAE'], cv=5, verbose=True)"
   ]
  },
  {
   "cell_type": "code",
   "execution_count": 29,
   "metadata": {},
   "outputs": [
    {
     "name": "stdout",
     "output_type": "stream",
     "text": [
      "Evaluating RMSE, MAE of algorithm NormalPredictor on 5 split(s).\n",
      "\n",
      "                  Fold 1  Fold 2  Fold 3  Fold 4  Fold 5  Mean    Std     \n",
      "RMSE (testset)    3.2228  3.1854  3.2248  3.1900  3.2078  3.2062  0.0162  \n",
      "MAE (testset)     2.8027  2.7717  2.8110  2.7688  2.7983  2.7905  0.0170  \n",
      "Fit time          0.05    0.06    0.06    0.06    0.06    0.06    0.00    \n",
      "Test time         0.06    0.06    0.06    0.06    0.06    0.06    0.00    \n"
     ]
    },
    {
     "data": {
      "text/plain": [
       "{'test_rmse': array([3.22277134, 3.18539866, 3.22479532, 3.18997673, 3.20784734]),\n",
       " 'test_mae': array([2.80266797, 2.77169809, 2.81097963, 2.76880826, 2.79826359]),\n",
       " 'fit_time': (0.050013065338134766,\n",
       "  0.06382322311401367,\n",
       "  0.05505204200744629,\n",
       "  0.05821990966796875,\n",
       "  0.056704044342041016),\n",
       " 'test_time': (0.06023120880126953,\n",
       "  0.05889010429382324,\n",
       "  0.056366920471191406,\n",
       "  0.057301998138427734,\n",
       "  0.05584406852722168)}"
      ]
     },
     "execution_count": 29,
     "metadata": {},
     "output_type": "execute_result"
    }
   ],
   "source": [
    "# Use the Normal Predictor algorithm\n",
    "algo = NormalPredictor()\n",
    "\n",
    "# Run 5-fold cross-validation and print results.\n",
    "cross_validate(algo, dataset, measures=['RMSE', 'MAE'], cv=5, verbose=True)"
   ]
  }
 ],
 "metadata": {
  "interpreter": {
   "hash": "2bd6d94991ff9ae6dfdbd975eb839f4dc12d8064852aaa8dc3cfcac23c75d875"
  },
  "kernelspec": {
   "display_name": "Python 3.9.10 ('venv': venv)",
   "language": "python",
   "name": "python3"
  },
  "language_info": {
   "codemirror_mode": {
    "name": "ipython",
    "version": 3
   },
   "file_extension": ".py",
   "mimetype": "text/x-python",
   "name": "python",
   "nbconvert_exporter": "python",
   "pygments_lexer": "ipython3",
   "version": "3.9.10"
  },
  "orig_nbformat": 4
 },
 "nbformat": 4,
 "nbformat_minor": 2
}
