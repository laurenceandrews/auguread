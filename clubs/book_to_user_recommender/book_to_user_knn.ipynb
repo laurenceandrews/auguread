{
 "cells": [
  {
   "cell_type": "code",
   "execution_count": 3,
   "metadata": {},
   "outputs": [
    {
     "ename": "ModuleNotFoundError",
     "evalue": "No module named 'surprise'",
     "output_type": "error",
     "traceback": [
      "\u001b[0;31m---------------------------------------------------------------------------\u001b[0m",
      "\u001b[0;31mModuleNotFoundError\u001b[0m                       Traceback (most recent call last)",
      "\u001b[1;32m/home/yasameen/SEG/sick-legends/clubs/book_to_user_recommender/book_to_user_knn.ipynb Cell 1'\u001b[0m in \u001b[0;36m<module>\u001b[0;34m\u001b[0m\n\u001b[1;32m      <a href='vscode-notebook-cell:/home/yasameen/SEG/sick-legends/clubs/book_to_user_recommender/book_to_user_knn.ipynb#ch0000000?line=0'>1</a>\u001b[0m \u001b[39mimport\u001b[39;00m \u001b[39mnumpy\u001b[39;00m \u001b[39mas\u001b[39;00m \u001b[39mnp\u001b[39;00m \u001b[39m# linear algebra\u001b[39;00m\n\u001b[1;32m      <a href='vscode-notebook-cell:/home/yasameen/SEG/sick-legends/clubs/book_to_user_recommender/book_to_user_knn.ipynb#ch0000000?line=1'>2</a>\u001b[0m \u001b[39mimport\u001b[39;00m \u001b[39mpandas\u001b[39;00m \u001b[39mas\u001b[39;00m \u001b[39mpd\u001b[39;00m \u001b[39m# data processing, CSV file I/O (e.g. pd.read_csv)\u001b[39;00m\n\u001b[0;32m----> <a href='vscode-notebook-cell:/home/yasameen/SEG/sick-legends/clubs/book_to_user_recommender/book_to_user_knn.ipynb#ch0000000?line=3'>4</a>\u001b[0m \u001b[39mfrom\u001b[39;00m \u001b[39msurprise\u001b[39;00m \u001b[39mimport\u001b[39;00m KNNBasic\n\u001b[1;32m      <a href='vscode-notebook-cell:/home/yasameen/SEG/sick-legends/clubs/book_to_user_recommender/book_to_user_knn.ipynb#ch0000000?line=4'>5</a>\u001b[0m \u001b[39mfrom\u001b[39;00m \u001b[39msurprise\u001b[39;00m \u001b[39mimport\u001b[39;00m Dataset\n\u001b[1;32m      <a href='vscode-notebook-cell:/home/yasameen/SEG/sick-legends/clubs/book_to_user_recommender/book_to_user_knn.ipynb#ch0000000?line=5'>6</a>\u001b[0m \u001b[39mfrom\u001b[39;00m \u001b[39msurprise\u001b[39;00m \u001b[39mimport\u001b[39;00m Reader\n",
      "\u001b[0;31mModuleNotFoundError\u001b[0m: No module named 'surprise'"
     ]
    }
   ],
   "source": [
    "import numpy as np # linear algebra\n",
    "import pandas as pd # data processing, CSV file I/O (e.g. pd.read_csv)\n",
    "\n",
    "from surprise import KNNBasic\n",
    "from surprise import Dataset\n",
    "from surprise import Reader\n",
    "from surprise.model_selection import cross_validate\n",
    "\n",
    "from collections import defaultdict\n",
    "from operator import itemgetter\n",
    "import heapq\n",
    "\n",
    "import os\n",
    "import csv"
   ]
  },
  {
   "cell_type": "code",
   "execution_count": null,
   "metadata": {},
   "outputs": [],
   "source": [
    "# Load in the book ratings and return a dataset.\n",
    "def load_dataset():\n",
    "    reader = Reader(line_format='user item rating', sep=';', skip_lines=1)\n",
    "    ratings_dataset = Dataset.load_from_file('./ratings_no_quotes_smallest.csv', reader=reader)\n",
    "\n",
    "    # Lookup a book's name with it's bookID as key\n",
    "    bookID_to_name = {}\n",
    "    with open('./clubs_book.csv', newline='', encoding='Latin1') as csvfile:\n",
    "            book_reader = csv.reader(csvfile)\n",
    "            next(book_reader)\n",
    "            for row in book_reader:\n",
    "                bookID = int(row[0]) \n",
    "                book_name = row[1]\n",
    "                bookID_to_name[bookID] = book_name\n",
    "    # Return both the dataset and lookup dict in tuple\n",
    "    return (ratings_dataset, bookID_to_name)\n",
    "\n",
    "dataset, bookID_to_name = load_dataset()\n",
    "\n",
    "# Build a full Surprise training set from dataset\n",
    "trainset = dataset.build_full_trainset()"
   ]
  },
  {
   "cell_type": "code",
   "execution_count": null,
   "metadata": {},
   "outputs": [],
   "source": [
    "similarity_matrix = KNNBasic(sim_options={\n",
    "        'name': 'cosine',\n",
    "        'user_based': False\n",
    "        })\\\n",
    "        .fit(trainset)\\\n",
    "        .compute_similarities()\n",
    "\n",
    "similarity_matrix"
   ]
  },
  {
   "cell_type": "code",
   "execution_count": null,
   "metadata": {},
   "outputs": [],
   "source": [
    "# Pick a random user ID, has to be a numeric string.\n",
    "# Play around and see how the final recommendations change\n",
    "# depending on the user!\n",
    "test_subject = '276725'\n",
    "\n",
    "# Get the top K items user rated\n",
    "k = 10\n"
   ]
  },
  {
   "cell_type": "code",
   "execution_count": null,
   "metadata": {},
   "outputs": [],
   "source": [
    "# When using Surprise, there are RAW and INNER IDs.\n",
    "# Raw IDs are the IDs, strings or numbers, you use when\n",
    "# creating the trainset. The raw ID will be converted to\n",
    "# an unique integer Surprise can more easily manipulate\n",
    "# for computations.\n",
    "#\n",
    "# So in order to find an user inside the trainset, you\n",
    "# need to convert their RAW ID to the INNER Id. Read\n",
    "# here for more info https://surprise.readthedocs.io/en/stable/FAQ.html#what-are-raw-and-inner-ids\n",
    "test_subject_iid = trainset.to_inner_uid(test_subject)\n",
    "\n",
    "# Get the top K items we rated\n",
    "test_subject_ratings = trainset.ur[test_subject_iid]\n",
    "k_neighbors = heapq.nlargest(k, test_subject_ratings, key=lambda t: t[1])"
   ]
  },
  {
   "cell_type": "code",
   "execution_count": null,
   "metadata": {},
   "outputs": [],
   "source": [
    "# Default dict is basically a standard dictionary,\n",
    "# the difference beeing that it doesn't throw an error\n",
    "# when trying to access a key which does not exist,\n",
    "# instead a new entry, with that key, is created.\n",
    "candidates = defaultdict(float)\n",
    "\n",
    "for itemID, rating in k_neighbors:\n",
    "    try:\n",
    "      similaritities = similarity_matrix[itemID]\n",
    "      for innerID, score in enumerate(similaritities):\n",
    "          candidates[innerID] += score * (rating / 5.0)\n",
    "    except:\n",
    "      continue"
   ]
  },
  {
   "cell_type": "code",
   "execution_count": null,
   "metadata": {},
   "outputs": [],
   "source": [
    "# Utility we'll use later.\n",
    "def getBookName(bookID):\n",
    "  if (bookID) in bookID_to_name:\n",
    "    return bookID_to_name[bookID]\n",
    "  else:\n",
    "      return \"\""
   ]
  },
  {
   "cell_type": "code",
   "execution_count": null,
   "metadata": {},
   "outputs": [],
   "source": [
    "# Build a dictionary of books the user has read\n",
    "read = {}\n",
    "for itemID, rating in trainset.ur[test_subject_iid]:\n",
    "  read[itemID] = 1\n",
    "\n",
    "# Add items to list of user's recommendations\n",
    "# If they are similar to their favorite books,\n",
    "# AND have not already been read.\n",
    "recommendations = []\n",
    "\n",
    "position = 0\n",
    "for itemID, rating_sum in sorted(candidates.items(), key=itemgetter(1), reverse=True):\n",
    "  if not itemID in read:\n",
    "    recommendations.append(getBookName(itemID))\n",
    "    position += 1\n",
    "    if (position > 10): break # We only want top 10\n",
    "\n",
    "for rec in recommendations:\n",
    "  print(\"book: \", rec)"
   ]
  }
 ],
 "metadata": {
  "interpreter": {
   "hash": "2989945190e048cc7b3fc2e9f782c7ff058f001b7425e8be6d83a8e7be792cd4"
  },
  "kernelspec": {
   "display_name": "Python 3.9.7 ('myenv')",
   "language": "python",
   "name": "python3"
  },
  "language_info": {
   "codemirror_mode": {
    "name": "ipython",
    "version": 3
   },
   "file_extension": ".py",
   "mimetype": "text/x-python",
   "name": "python",
   "nbconvert_exporter": "python",
   "pygments_lexer": "ipython3",
   "version": "3.8.10"
  },
  "orig_nbformat": 4
 },
 "nbformat": 4,
 "nbformat_minor": 2
}
