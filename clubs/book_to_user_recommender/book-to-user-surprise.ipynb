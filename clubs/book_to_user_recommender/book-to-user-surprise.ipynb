{
 "cells": [
  {
   "cell_type": "code",
   "execution_count": 38,
   "metadata": {},
   "outputs": [],
   "source": [
    "import numpy as np # linear algebra\n",
    "import pandas as pd # data processing, CSV file I/O (e.g. pd.read_csv)\n",
    "\n",
    "from surprise import KNNBasic\n",
    "from surprise import Dataset\n",
    "from surprise import Reader\n",
    "from surprise.model_selection import cross_validate\n",
    "\n",
    "from collections import defaultdict\n",
    "from operator import itemgetter\n",
    "import heapq\n",
    "\n",
    "import os\n",
    "import csv"
   ]
  },
  {
   "cell_type": "code",
   "execution_count": 39,
   "metadata": {},
   "outputs": [],
   "source": [
    "# Load in the book ratings and return a dataset.\n",
    "def load_dataset():\n",
    "    reader = Reader(line_format='user item rating', sep=';', skip_lines=1)\n",
    "    ratings_dataset = Dataset.load_from_file('./ratings_no_quotes_smallest.csv', reader=reader)\n",
    "\n",
    "    # Lookup a book's name with it's bookID as key\n",
    "    bookID_to_name = {}\n",
    "    with open('./clubs_book.csv', newline='', encoding='Latin1') as csvfile:\n",
    "            book_reader = csv.reader(csvfile)\n",
    "            next(book_reader)\n",
    "            for row in book_reader:\n",
    "                bookID = int(row[0]) \n",
    "                book_name = row[1]\n",
    "                bookID_to_name[bookID] = book_name\n",
    "    # Return both the dataset and lookup dict in tuple\n",
    "    return (ratings_dataset, bookID_to_name)\n",
    "\n",
    "dataset, bookID_to_name = load_dataset()\n",
    "\n",
    "# Build a full Surprise training set from dataset\n",
    "trainset = dataset.build_full_trainset()"
   ]
  },
  {
   "cell_type": "code",
   "execution_count": 40,
   "metadata": {},
   "outputs": [
    {
     "name": "stdout",
     "output_type": "stream",
     "text": [
      "Computing the cosine similarity matrix...\n"
     ]
    },
    {
     "name": "stderr",
     "output_type": "stream",
     "text": [
      "/Users/laurenceandrews/KCL/5CCS2SEG/sick-legends/venv/lib/python3.9/site-packages/surprise/prediction_algorithms/algo_base.py:249: RuntimeWarning: invalid value encountered in double_scalars\n",
      "  sim = construction_func[name](*args)\n"
     ]
    },
    {
     "name": "stdout",
     "output_type": "stream",
     "text": [
      "Done computing similarity matrix.\n",
      "Computing the cosine similarity matrix...\n",
      "Done computing similarity matrix.\n"
     ]
    },
    {
     "data": {
      "text/plain": [
       "array([[ 1.,  0.,  0., ...,  0.,  0.,  0.],\n",
       "       [ 0.,  1.,  0., ...,  0.,  0.,  0.],\n",
       "       [ 0.,  0.,  1., ...,  0.,  0.,  0.],\n",
       "       ...,\n",
       "       [ 0.,  0.,  0., ...,  1., nan, nan],\n",
       "       [ 0.,  0.,  0., ..., nan,  1., nan],\n",
       "       [ 0.,  0.,  0., ..., nan, nan,  1.]])"
      ]
     },
     "execution_count": 40,
     "metadata": {},
     "output_type": "execute_result"
    }
   ],
   "source": [
    "similarity_matrix = KNNBasic(sim_options={\n",
    "        'name': 'cosine',\n",
    "        'user_based': False\n",
    "        })\\\n",
    "        .fit(trainset)\\\n",
    "        .compute_similarities()\n",
    "\n",
    "similarity_matrix"
   ]
  },
  {
   "cell_type": "code",
   "execution_count": 41,
   "metadata": {},
   "outputs": [],
   "source": [
    "# Pick a random user ID, has to be a numeric string.\n",
    "# Play around and see how the final recommendations change\n",
    "# depending on the user!\n",
    "test_subject = '276725'\n",
    "\n",
    "# Get the top K items user rated\n",
    "k = 10\n"
   ]
  },
  {
   "cell_type": "code",
   "execution_count": 42,
   "metadata": {},
   "outputs": [],
   "source": [
    "# When using Surprise, there are RAW and INNER IDs.\n",
    "# Raw IDs are the IDs, strings or numbers, you use when\n",
    "# creating the trainset. The raw ID will be converted to\n",
    "# an unique integer Surprise can more easily manipulate\n",
    "# for computations.\n",
    "#\n",
    "# So in order to find an user inside the trainset, you\n",
    "# need to convert their RAW ID to the INNER Id. Read\n",
    "# here for more info https://surprise.readthedocs.io/en/stable/FAQ.html#what-are-raw-and-inner-ids\n",
    "test_subject_iid = trainset.to_inner_uid(test_subject)\n",
    "\n",
    "# Get the top K items we rated\n",
    "test_subject_ratings = trainset.ur[test_subject_iid]\n",
    "k_neighbors = heapq.nlargest(k, test_subject_ratings, key=lambda t: t[1])"
   ]
  },
  {
   "cell_type": "code",
   "execution_count": 43,
   "metadata": {},
   "outputs": [],
   "source": [
    "# Default dict is basically a standard dictionary,\n",
    "# the difference beeing that it doesn't throw an error\n",
    "# when trying to access a key which does not exist,\n",
    "# instead a new entry, with that key, is created.\n",
    "candidates = defaultdict(float)\n",
    "\n",
    "for itemID, rating in k_neighbors:\n",
    "    try:\n",
    "      similaritities = similarity_matrix[itemID]\n",
    "      for innerID, score in enumerate(similaritities):\n",
    "          candidates[innerID] += score * (rating / 5.0)\n",
    "    except:\n",
    "      continue"
   ]
  },
  {
   "cell_type": "code",
   "execution_count": 44,
   "metadata": {},
   "outputs": [],
   "source": [
    "# Utility we'll use later.\n",
    "def getBookName(bookID):\n",
    "  if (bookID) in bookID_to_name:\n",
    "    return bookID_to_name[bookID]\n",
    "  else:\n",
    "      return \"\""
   ]
  },
  {
   "cell_type": "code",
   "execution_count": 45,
   "metadata": {},
   "outputs": [
    {
     "name": "stdout",
     "output_type": "stream",
     "text": [
      "book:  0393310779\n",
      "book:  0399136487\n",
      "book:  1551051729\n",
      "book:  1402201435\n",
      "book:  0060926546\n",
      "book:  0844239062\n",
      "book:  0425068145\n",
      "book:  0373078188\n",
      "book:  0446604623\n",
      "book:  1585671274\n",
      "book:  006091498X\n"
     ]
    }
   ],
   "source": [
    "# Build a dictionary of books the user has read\n",
    "read = {}\n",
    "for itemID, rating in trainset.ur[test_subject_iid]:\n",
    "  read[itemID] = 1\n",
    "\n",
    "# Add items to list of user's recommendations\n",
    "# If they are similar to their favorite books,\n",
    "# AND have not already been read.\n",
    "recommendations = []\n",
    "\n",
    "position = 0\n",
    "for itemID, rating_sum in sorted(candidates.items(), key=itemgetter(1), reverse=True):\n",
    "  if not itemID in read:\n",
    "    recommendations.append(getBookName(itemID))\n",
    "    position += 1\n",
    "    if (position > 10): break # We only want top 10\n",
    "\n",
    "for rec in recommendations:\n",
    "  print(\"book: \", rec)"
   ]
  }
 ],
 "metadata": {
  "interpreter": {
   "hash": "2989945190e048cc7b3fc2e9f782c7ff058f001b7425e8be6d83a8e7be792cd4"
  },
  "kernelspec": {
   "display_name": "Python 3.9.7 ('myenv')",
   "language": "python",
   "name": "python3"
  },
  "language_info": {
   "codemirror_mode": {
    "name": "ipython",
    "version": 3
   },
   "file_extension": ".py",
   "mimetype": "text/x-python",
   "name": "python",
   "nbconvert_exporter": "python",
   "pygments_lexer": "ipython3",
   "version": "3.9.10"
  },
  "orig_nbformat": 4
 },
 "nbformat": 4,
 "nbformat_minor": 2
}
